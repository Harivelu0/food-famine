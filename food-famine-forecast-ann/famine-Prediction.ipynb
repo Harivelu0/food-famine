{
 "cells": [
  {
   "cell_type": "code",
   "execution_count": null,
   "id": "3c274c63-0e90-4d39-aaae-6b407076b127",
   "metadata": {},
   "outputs": [],
   "source": [
    "import pandas as pd\n",
    "import numpy as np\n",
    "import matplotlib.pyplot as plt\n",
    "import seaborn as sns\n",
    "from sklearn.preprocessing import StandardScaler, OneHotEncoder\n",
    "from sklearn.compose import ColumnTransformer\n",
    "from sklearn.model_selection import train_test_split\n",
    "from sklearn.neural_network import MLPRegressor\n",
    "from sklearn.metrics import mean_squared_error, mean_absolute_error, r2_score\n",
    "import joblib"
   ]
  },
  {
   "cell_type": "code",
   "execution_count": null,
   "id": "7acb2ea1-2446-47c9-ac68-2d25a2dee5f5",
   "metadata": {},
   "outputs": [],
   "source": [
    "df = pd.read_csv('yield_df.csv')\n",
    "df.drop('Unnamed: 0', axis=1, inplace=True)"
   ]
  },
  {
   "cell_type": "code",
   "execution_count": null,
   "id": "c639892f-7817-4b45-8fe0-cf1fd1928f4f",
   "metadata": {},
   "outputs": [
    {
     "data": {
      "text/html": [
       "<div>\n",
       "<style scoped>\n",
       "    .dataframe tbody tr th:only-of-type {\n",
       "        vertical-align: middle;\n",
       "    }\n",
       "\n",
       "    .dataframe tbody tr th {\n",
       "        vertical-align: top;\n",
       "    }\n",
       "\n",
       "    .dataframe thead th {\n",
       "        text-align: right;\n",
       "    }\n",
       "</style>\n",
       "<table border=\"1\" class=\"dataframe\">\n",
       "  <thead>\n",
       "    <tr style=\"text-align: right;\">\n",
       "      <th></th>\n",
       "      <th>Unnamed: 0</th>\n",
       "      <th>Area</th>\n",
       "      <th>Item</th>\n",
       "      <th>Year</th>\n",
       "      <th>hg/ha_yield</th>\n",
       "      <th>average_rain_fall_mm_per_year</th>\n",
       "      <th>pesticides_tonnes</th>\n",
       "      <th>avg_temp</th>\n",
       "    </tr>\n",
       "  </thead>\n",
       "  <tbody>\n",
       "    <tr>\n",
       "      <th>0</th>\n",
       "      <td>0</td>\n",
       "      <td>Andhra Pradesh</td>\n",
       "      <td>Arecanut</td>\n",
       "      <td>2000</td>\n",
       "      <td>724</td>\n",
       "      <td>935.6</td>\n",
       "      <td>68.12</td>\n",
       "      <td>16.37</td>\n",
       "    </tr>\n",
       "    <tr>\n",
       "      <th>1</th>\n",
       "      <td>1</td>\n",
       "      <td>Andhra Pradesh</td>\n",
       "      <td>Arhar/Tur</td>\n",
       "      <td>2000</td>\n",
       "      <td>216457</td>\n",
       "      <td>935.6</td>\n",
       "      <td>131915.16</td>\n",
       "      <td>16.37</td>\n",
       "    </tr>\n",
       "    <tr>\n",
       "      <th>2</th>\n",
       "      <td>2</td>\n",
       "      <td>Andhra Pradesh</td>\n",
       "      <td>Arhar/Tur</td>\n",
       "      <td>2000</td>\n",
       "      <td>2701</td>\n",
       "      <td>935.6</td>\n",
       "      <td>1585.48</td>\n",
       "      <td>16.37</td>\n",
       "    </tr>\n",
       "    <tr>\n",
       "      <th>3</th>\n",
       "      <td>3</td>\n",
       "      <td>Andhra Pradesh</td>\n",
       "      <td>Bajra</td>\n",
       "      <td>2000</td>\n",
       "      <td>135964</td>\n",
       "      <td>935.6</td>\n",
       "      <td>33663.50</td>\n",
       "      <td>16.37</td>\n",
       "    </tr>\n",
       "    <tr>\n",
       "      <th>4</th>\n",
       "      <td>4</td>\n",
       "      <td>Andhra Pradesh</td>\n",
       "      <td>Bajra</td>\n",
       "      <td>2000</td>\n",
       "      <td>12524</td>\n",
       "      <td>935.6</td>\n",
       "      <td>3699.54</td>\n",
       "      <td>16.37</td>\n",
       "    </tr>\n",
       "  </tbody>\n",
       "</table>\n",
       "</div>"
      ],
      "text/plain": [
       "   Unnamed: 0            Area       Item  Year  hg/ha_yield  \\\n",
       "0           0  Andhra Pradesh   Arecanut  2000          724   \n",
       "1           1  Andhra Pradesh  Arhar/Tur  2000       216457   \n",
       "2           2  Andhra Pradesh  Arhar/Tur  2000         2701   \n",
       "3           3  Andhra Pradesh      Bajra  2000       135964   \n",
       "4           4  Andhra Pradesh      Bajra  2000        12524   \n",
       "\n",
       "   average_rain_fall_mm_per_year  pesticides_tonnes  avg_temp  \n",
       "0                          935.6              68.12     16.37  \n",
       "1                          935.6          131915.16     16.37  \n",
       "2                          935.6            1585.48     16.37  \n",
       "3                          935.6           33663.50     16.37  \n",
       "4                          935.6            3699.54     16.37  "
      ]
     },
     "execution_count": 20,
     "metadata": {},
     "output_type": "execute_result"
    }
   ],
   "source": [
    "print(\"Dataset shape:\", df.shape)\n",
    "df.info()\n",
    "df.head()"
   ]
  },
  {
   "cell_type": "code",
   "execution_count": null,
   "id": "5c7918c6-e4a3-4cea-9fb0-85c37616bb75",
   "metadata": {},
   "outputs": [],
   "source": [
    "df.isnull().sum()\n",
    "\n",
    "# Check for duplicates and remove them\n",
    "duplicates = df.duplicated().sum()\n",
    "print(f\"Number of duplicate rows: {duplicates}\")\n",
    "if duplicates > 0:\n",
    "    df.drop_duplicates(inplace=True)\n",
    "    print(f\"After removing duplicates, shape: {df.shape}\")"
   ]
  },
  {
   "cell_type": "code",
   "execution_count": null,
   "id": "70829400-19ef-45a8-b5e3-1afc21337588",
   "metadata": {},
   "outputs": [
    {
     "data": {
      "text/plain": [
       "(19689, 7)"
      ]
     },
     "execution_count": 22,
     "metadata": {},
     "output_type": "execute_result"
    }
   ],
   "source": [
    "def isStr(obj):\n",
    "    try:\n",
    "        float(obj)\n",
    "        return False\n",
    "    except:\n",
    "        return True"
   ]
  },
  {
   "cell_type": "code",
   "execution_count": null,
   "id": "6878a778-0237-46ae-8879-1bb82cd41f54",
   "metadata": {},
   "outputs": [
    {
     "name": "stdout",
     "output_type": "stream",
     "text": [
      "<class 'pandas.core.frame.DataFrame'>\n",
      "RangeIndex: 19689 entries, 0 to 19688\n",
      "Data columns (total 7 columns):\n",
      " #   Column                         Non-Null Count  Dtype  \n",
      "---  ------                         --------------  -----  \n",
      " 0   Area                           19689 non-null  object \n",
      " 1   Item                           19689 non-null  object \n",
      " 2   Year                           19689 non-null  int64  \n",
      " 3   hg/ha_yield                    19689 non-null  int64  \n",
      " 4   average_rain_fall_mm_per_year  19689 non-null  float64\n",
      " 5   pesticides_tonnes              19689 non-null  float64\n",
      " 6   avg_temp                       19689 non-null  float64\n",
      "dtypes: float64(3), int64(2), object(2)\n",
      "memory usage: 1.1+ MB\n"
     ]
    }
   ],
   "source": [
    "to_drop = df[df['average_rain_fall_mm_per_year'].apply(isStr)].index\n",
    "df = df.drop(to_drop)\n",
    "df['average_rain_fall_mm_per_year'] = df['average_rain_fall_mm_per_year'].astype(np.float64)\n"
   ]
  },
  {
   "cell_type": "code",
   "execution_count": null,
   "id": "95f2e00b-b98a-49c3-881d-8a6f97f3e02e",
   "metadata": {},
   "outputs": [
    {
     "data": {
      "text/plain": [
       "Area                             0\n",
       "Item                             0\n",
       "Year                             0\n",
       "hg/ha_yield                      0\n",
       "average_rain_fall_mm_per_year    0\n",
       "pesticides_tonnes                0\n",
       "avg_temp                         0\n",
       "dtype: int64"
      ]
     },
     "execution_count": 24,
     "metadata": {},
     "output_type": "execute_result"
    }
   ],
   "source": [
    "# 1. Population data (simulated)\n",
    "np.random.seed(42)\n",
    "df['population'] = np.random.normal(1000000, 500000, size=len(df))\n"
   ]
  },
  {
   "cell_type": "code",
   "execution_count": null,
   "id": "5d861962-de54-49e1-a7ae-6b47e090fc54",
   "metadata": {},
   "outputs": [
    {
     "data": {
      "text/plain": [
       "3"
      ]
     },
     "execution_count": 25,
     "metadata": {},
     "output_type": "execute_result"
    }
   ],
   "source": [
    "seasons = ['kharif', 'rabi', 'summer', 'saith']\n",
    "df['season'] = np.random.choice(seasons, size=len(df))"
   ]
  },
  {
   "cell_type": "code",
   "execution_count": null,
   "id": "389e2c26-3b5a-4f8f-8a77-1ffb1ee72594",
   "metadata": {},
   "outputs": [],
   "source": [
    "# 2. Count of records by area\n",
    "plt.figure(figsize=(15, 10))\n",
    "area_counts = df['Area'].value_counts()\n",
    "sns.barplot(x=area_counts.index, y=area_counts.values)\n",
    "plt.title('Number of Records by Area')\n",
    "plt.xlabel('Area')\n",
    "plt.ylabel('Count')\n",
    "plt.xticks(rotation=90)\n",
    "plt.show()"
   ]
  },
  {
   "cell_type": "code",
   "execution_count": null,
   "id": "c91d4c4d-6106-42f2-afd3-08367e91df24",
   "metadata": {},
   "outputs": [
    {
     "data": {
      "text/plain": [
       "0"
      ]
     },
     "execution_count": 27,
     "metadata": {},
     "output_type": "execute_result"
    }
   ],
   "source": [
    "# 3. Count of records by crop\n",
    "plt.figure(figsize=(12, 6))\n",
    "crop_counts = df['Item'].value_counts()\n",
    "sns.barplot(x=crop_counts.index, y=crop_counts.values)\n",
    "plt.title('Number of Records by Crop Type')\n",
    "plt.xlabel('Crop')\n",
    "plt.ylabel('Count')\n",
    "plt.xticks(rotation=45)\n",
    "plt.show()"
   ]
  },
  {
   "cell_type": "code",
   "execution_count": null,
   "id": "1e617599-6cdc-4dbe-9f02-3f6b549d08a2",
   "metadata": {},
   "outputs": [],
   "source": [
    "# 4. Total yield by area\n",
    "plt.figure(figsize=(15, 10))\n",
    "area_yield = df.groupby('Area')['hg/ha_yield'].sum().sort_values(ascending=False)\n",
    "sns.barplot(x=area_yield.index, y=area_yield.values)\n",
    "plt.title('Total Yield by Area')\n",
    "plt.xlabel('Area')\n",
    "plt.ylabel('Total Yield (hg/ha)')\n",
    "plt.xticks(rotation=90)\n",
    "plt.show()"
   ]
  },
  {
   "cell_type": "code",
   "execution_count": null,
   "id": "1d44c323-009c-46f8-8ee0-ef01bff22334",
   "metadata": {},
   "outputs": [],
   "source": [
    "# 5. Correlation between numeric variables\n",
    "numeric_cols = ['Year', 'average_rain_fall_mm_per_year', 'pesticides_tonnes', 'avg_temp', 'population', 'hg/ha_yield']\n",
    "plt.figure(figsize=(10, 8))\n",
    "correlation = df[numeric_cols].corr()\n",
    "sns.heatmap(correlation, annot=True, cmap='coolwarm', fmt='.2f')\n",
    "plt.title('Correlation Matrix')\n",
    "plt.show()"
   ]
  },
  {
   "cell_type": "code",
   "execution_count": null,
   "id": "623b97aa-7812-4bae-82eb-d1e64036f0c1",
   "metadata": {},
   "outputs": [],
   "source": [
    "# Define features and target\n",
    "X = df[['Year', 'average_rain_fall_mm_per_year', 'pesticides_tonnes', 'avg_temp', 'Area', 'Item', 'season', 'population']]\n",
    "y = df['hg/ha_yield']"
   ]
  },
  {
   "cell_type": "code",
   "execution_count": null,
   "id": "ddc2ab48-97ae-4818-baa6-d0c28cc9df5f",
   "metadata": {},
   "outputs": [
    {
     "data": {
      "text/plain": [
       "30"
      ]
     },
     "execution_count": 32,
     "metadata": {},
     "output_type": "execute_result"
    }
   ],
   "source": [
    "# Define numerical and categorical features\n",
    "numerical_features = ['Year', 'average_rain_fall_mm_per_year', 'pesticides_tonnes', 'avg_temp', 'population']\n",
    "categorical_features = ['Area', 'Item', 'season']\n"
   ]
  },
  {
   "cell_type": "markdown",
   "id": "263369bc",
   "metadata": {},
   "source": [
    "# Create preprocessor\n",
    "preprocessor = ColumnTransformer(\n",
    "    transformers=[\n",
    "        ('num', StandardScaler(), numerical_features),\n",
    "        ('cat', OneHotEncoder(handle_unknown='ignore'), categorical_features)\n",
    "    ])"
   ]
  },
  {
   "cell_type": "code",
   "execution_count": null,
   "id": "ae4c667f-236d-475c-aa19-8c162be3b3f5",
   "metadata": {},
   "outputs": [
    {
     "data": {
      "image/png": "[encoded data removed]",
      "text/plain": [
       "<Figure size 1500x2000 with 1 Axes>"
      ]
     },
     "metadata": {},
     "output_type": "display_data"
    }
   ],
   "source": [
    "# Split the data\n",
    "X_train, X_test, y_train, y_test = train_test_split(X, y, test_size=0.2, random_state=42)\n"
   ]
  },
  {
   "cell_type": "code",
   "execution_count": null,
   "id": "8d371861-f0a9-4cee-ab02-12ca2738dec1",
   "metadata": {},
   "outputs": [
    {
     "data": {
      "text/plain": [
       "10"
      ]
     },
     "execution_count": 34,
     "metadata": {},
     "output_type": "execute_result"
    }
   ],
   "source": [
    "# Process the data\n",
    "X_train_processed = preprocessor.fit_transform(X_train)\n",
    "X_test_processed = preprocessor.transform(X_test)"
   ]
  },
  {
   "cell_type": "code",
   "execution_count": null,
   "id": "1035fdef-d4e5-4221-9a03-a513f3c5be98",
   "metadata": {},
   "outputs": [],
   "source": [
    "# Build the Artificial Neural Network model\n",
    "# Based on the paper's description\n",
    "model = MLPRegressor(\n",
    "    hidden_layer_sizes=(100, 50),  # Two hidden layers with 100 and 50 neurons\n",
    "    activation='relu',             # ReLU activation function\n",
    "    solver='adam',                 # Adam optimizer\n",
    "    alpha=0.0001,                  # L2 penalty parameter\n",
    "    batch_size='auto',\n",
    "    learning_rate='adaptive',\n",
    "    max_iter=1000,\n",
    "    random_state=42\n",
    ")"
   ]
  },
  {
   "cell_type": "code",
   "execution_count": null,
   "id": "dd48cccb-96aa-4e79-bc09-7c93bcd1877f",
   "metadata": {},
   "outputs": [
    {
     "data": {
      "text/plain": [
       "323607146122"
      ]
     },
     "execution_count": 36,
     "metadata": {},
     "output_type": "execute_result"
    }
   ],
   "source": [
    "# Train the model\n",
    "model.fit(X_train_processed, y_train)\n",
    "\n",
    "# Make predictions\n",
    "y_pred_train = model.predict(X_train_processed)\n",
    "y_pred_test = model.predict(X_test_processed)\n"
   ]
  },
  {
   "cell_type": "code",
   "execution_count": null,
   "id": "6b38c105-dc36-4dbc-8b89-eef05b78df92",
   "metadata": {},
   "outputs": [
    {
     "data": {
      "text/plain": [
       "[26076218605,\n",
       " 9522010,\n",
       " 3637714928,\n",
       " 544953534,\n",
       " 143096606,\n",
       " 2666022,\n",
       " 2193998349,\n",
       " 807480178,\n",
       " 589739640,\n",
       " 32297151,\n",
       " 30298377,\n",
       " 43793850,\n",
       " 63772797366,\n",
       " 129700649755,\n",
       " 834490323,\n",
       " 1878564915,\n",
       " 18764635,\n",
       " 16516629,\n",
       " 2769208,\n",
       " 18748702,\n",
       " 194080325,\n",
       " 493815573,\n",
       " 781551409,\n",
       " 2744927,\n",
       " 78051759253,\n",
       " 147700034,\n",
       " 16952054,\n",
       " 4442585302,\n",
       " 179697342,\n",
       " 8941179120]"
      ]
     },
     "execution_count": 37,
     "metadata": {},
     "output_type": "execute_result"
    }
   ],
   "source": [
    "# Calculate performance metrics as described in the paper\n",
    "# 1. Root Mean Square Error (RMSE)\n",
    "rmse = np.sqrt(mean_squared_error(y_test, y_pred_test))\n",
    "\n",
    "# 2. Mean Absolute Deviation (MAD)\n",
    "mad = mean_absolute_error(y_test, y_pred_test)\n",
    "\n",
    "# 3. Mean Absolute Percentage Error (MAPE)\n",
    "mape = np.mean(np.abs((y_test - y_pred_test) / y_test)) * 100\n",
    "\n",
    "# 4. Coefficient of Determination (R^2)\n",
    "r2 = r2_score(y_test, y_pred_test)\n",
    "\n",
    "print(\"Model Performance Metrics:\")\n",
    "print(f\"RMSE: {rmse:.2f}\")\n",
    "print(f\"MAD: {mad:.2f}\")\n",
    "print(f\"MAPE: {mape:.2f}%\")\n",
    "print(f\"R^2: {r2:.2f}\")\n",
    "\n",
    "# Visualize actual vs predicted values\n",
    "plt.figure(figsize=(10, 6))\n",
    "plt.scatter(y_test, y_pred_test, alpha=0.5)\n",
    "plt.plot([y_test.min(), y_test.max()], [y_test.min(), y_test.max()], 'r--')\n",
    "plt.xlabel('Actual Yield')\n",
    "plt.ylabel('Predicted Yield')\n",
    "plt.title('Actual vs Predicted Yield')\n",
    "plt.text(0.05, 0.95, f'RMSE: {rmse:.2f}\\nMAD: {mad:.2f}\\nMAPE: {mape:.2f}%\\nR²: {r2:.2f}', \n",
    "         transform=plt.gca().transAxes, fontsize=12, \n",
    "         bbox=dict(facecolor='white', alpha=0.8))\n",
    "plt.show()\n",
    "\n",
    "# Save the model and preprocessor for use in the Flask app\n",
    "joblib.dump(model, 'ann_model.pkl')\n",
    "joblib.dump(preprocessor, 'preprocessor.pkl')\n",
    "\n",
    "# Function to predict famine year and major factor\n",
    "def predict_famine_year(area):\n",
    "    # Filter data for the area\n",
    "    area_data = df[df['Area'] == area]\n",
    "    \n",
    "    if area_data.empty:\n",
    "        return \"No data available for this area\", \"Unknown\"\n",
    "    \n",
    "    # Get the latest 5 years of data for the area\n",
    "    latest_years = sorted(area_data['Year'].unique())[-5:]\n",
    "    \n",
    "    # Calculate average yield for the area by year\n",
    "    yearly_yields = area_data[area_data['Year'].isin(latest_years)].groupby('Year')['hg/ha_yield'].mean()\n",
    "    \n",
    "    # Determine if there's a declining trend\n",
    "    if len(yearly_yields) >= 3:\n",
    "        # Check if there's a consistent declining trend\n",
    "        is_declining = all(yearly_yields.iloc[i] > yearly_yields.iloc[i+1] for i in range(len(yearly_yields)-1))\n",
    "        \n",
    "        if is_declining:\n",
    "            # Predict the next year after the latest as potential famine year\n",
    "            predicted_year = int(max(latest_years)) + 1\n",
    "            \n",
    "            # Determine major factor\n",
    "            # Check which factor has the strongest correlation with declining yields\n",
    "            factors = ['average_rain_fall_mm_per_year', 'pesticides_tonnes', 'avg_temp', 'population']\n",
    "            correlations = {}\n",
    "            \n",
    "            for factor in factors:\n",
    "                if factor in area_data.columns:\n",
    "                    correlation = area_data[factor].corr(area_data['hg/ha_yield'])\n",
    "                    correlations[factor] = abs(correlation)\n",
    "            \n",
    "            if correlations:\n",
    "                major_factor = max(correlations, key=correlations.get)\n",
    "                \n",
    "                # Make the factor name more readable\n",
    "                factor_names = {\n",
    "                    'average_rain_fall_mm_per_year': 'Rainfall Changes',\n",
    "                    'pesticides_tonnes': 'Pesticide Usage',\n",
    "                    'avg_temp': 'Temperature Changes',\n",
    "                    'population': 'Population Growth'\n",
    "                }\n",
    "                \n",
    "                return predicted_year, factor_names.get(major_factor, major_factor)\n",
    "            else:\n",
    "                return predicted_year, \"Multiple Factors\"\n",
    "        else:\n",
    "            # No consistent decline, use longest future projection\n",
    "            return int(max(latest_years)) + 5, \"Projected Future Risk\"\n",
    "    else:\n",
    "        # Not enough data for trend analysis\n",
    "        return int(max(latest_years)) + 3, \"Insufficient Historical Data\"\n",
    "\n",
    "# Test the famine prediction function\n",
    "for area in df['Area'].unique()[:5]:  # Test with first 5 areas\n",
    "    predicted_year, major_factor = predict_famine_year(area)\n",
    "    print(f\"Area: {area}, Predicted Famine Year: {predicted_year}, Major Factor: {major_factor}\")\n",
    "\n",
    "# Feature importance analysis\n",
    "# We can't directly get feature importance from MLPRegressor\n",
    "# So we'll analyze the correlation of features with the target\n",
    "\n",
    "# Create a list to store feature importance\n",
    "feature_importance = []\n",
    "\n",
    "# Get numerical feature importance through correlation\n",
    "for feature in numerical_features:\n",
    "    correlation = abs(df[feature].corr(df['hg/ha_yield']))\n",
    "    feature_importance.append((feature, correlation))\n",
    "\n",
    "# For categorical features, we'll compare group means\n",
    "for feature in categorical_features:\n",
    "    feature_stats = df.groupby(feature)['hg/ha_yield'].mean()\n",
    "    # Calculate the range of means as a measure of feature impact\n",
    "    feature_impact = feature_stats.max() - feature_stats.min()\n",
    "    feature_importance.append((feature, feature_impact))\n",
    "\n",
    "# Sort by importance\n",
    "feature_importance.sort(key=lambda x: x[1], descending=True)\n",
    "\n",
    "# Plot feature importance\n",
    "plt.figure(figsize=(12, 6))\n",
    "features, importance = zip(*feature_importance)\n",
    "sns.barplot(x=list(features), y=list(importance))\n",
    "plt.title('Feature Importance')\n",
    "plt.xlabel('Feature')\n",
    "plt.ylabel('Importance')\n",
    "plt.xticks(rotation=45)\n",
    "plt.show()\n",
    "\n",
    "print(\"Top 3 factors influencing crop yield:\")\n",
    "for i, (feature, importance) in enumerate(feature_importance[:3]):\n",
    "    print(f\"{i+1}. {feature}: {importance:.4f}\")"
   ]
  }
 ],
 "metadata": {
  "kernelspec": {
   "display_name": "Python 3 (ipykernel)",
   "language": "python",
   "name": "python3"
  },
  "language_info": {
   "codemirror_mode": {
    "name": "ipython",
    "version": 3
   },
   "file_extension": ".py",
   "mimetype": "text/x-python",
   "name": "python",
   "nbconvert_exporter": "python",
   "pygments_lexer": "ipython3",
   "version": "3.11.8"
  }
 },
 "nbformat": 4,
 "nbformat_minor": 5
}
